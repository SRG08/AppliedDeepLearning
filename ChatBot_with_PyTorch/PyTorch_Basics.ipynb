{
 "cells": [
  {
   "cell_type": "markdown",
   "metadata": {
    "toc": true
   },
   "source": [
    "<h1>Table of Contents<span class=\"tocSkip\"></span></h1>\n",
    "<div class=\"toc\"><ul class=\"toc-item\"></ul></div>"
   ]
  },
  {
   "cell_type": "code",
   "execution_count": 1,
   "metadata": {
    "ExecuteTime": {
     "end_time": "2020-10-11T03:52:13.321176Z",
     "start_time": "2020-10-11T03:52:13.301395Z"
    },
    "id": "mGfFhbhSI_B1"
   },
   "outputs": [],
   "source": [
    "# Uncomment and install the below to start CUDA is required for this file , i suggest you to run this on Google Colab\n",
    "\n",
    "# !pip install torch==1.6.0+cu101 torchvision==0.7.0+cu101 -f https://download.pytorch.org/whl/torch_stable.html"
   ]
  },
  {
   "cell_type": "code",
   "execution_count": 2,
   "metadata": {
    "ExecuteTime": {
     "end_time": "2020-10-11T03:52:38.405022Z",
     "start_time": "2020-10-11T03:52:38.381149Z"
    }
   },
   "outputs": [],
   "source": [
    "#credit: Udemy"
   ]
  },
  {
   "cell_type": "code",
   "execution_count": 5,
   "metadata": {
    "id": "uFFEIHW4H6_r"
   },
   "outputs": [],
   "source": [
    "import torch\n",
    "import numpy\n",
    "import torchvision\n",
    "import matplotlib.pyplot as plt"
   ]
  },
  {
   "cell_type": "code",
   "execution_count": 6,
   "metadata": {
    "colab": {
     "base_uri": "https://localhost:8080/",
     "height": 34
    },
    "id": "1dGqW6E0J7_T",
    "outputId": "b5a02d1e-52f0-4196-d8e4-a36345a004d2"
   },
   "outputs": [
    {
     "data": {
      "text/plain": [
       "True"
      ]
     },
     "execution_count": 6,
     "metadata": {
      "tags": []
     },
     "output_type": "execute_result"
    }
   ],
   "source": [
    "torch.cuda.is_available()"
   ]
  },
  {
   "cell_type": "code",
   "execution_count": 8,
   "metadata": {
    "colab": {
     "base_uri": "https://localhost:8080/",
     "height": 34
    },
    "id": "AOpxpvYKKVMP",
    "outputId": "e920d34f-c923-49d1-9f81-da2516d38edf"
   },
   "outputs": [
    {
     "name": "stdout",
     "output_type": "stream",
     "text": [
      "tensor([0.1111, 0.2222, 0.3333])\n"
     ]
    }
   ],
   "source": [
    "# This is a 1-D tensor\n",
    "a= torch.tensor([0.11111, 0.222222, 0.3333333])\n",
    "print(a)"
   ]
  },
  {
   "cell_type": "code",
   "execution_count": 11,
   "metadata": {
    "colab": {
     "base_uri": "https://localhost:8080/",
     "height": 85
    },
    "id": "nSoGqE96K-8s",
    "outputId": "73b431c7-bd1b-44eb-b5d3-549fa3124ee7"
   },
   "outputs": [
    {
     "name": "stdout",
     "output_type": "stream",
     "text": [
      "tensor([[0.1111, 0.2222, 0.3333],\n",
      "        [0.1111, 0.2222, 0.3333],\n",
      "        [0.1111, 0.2222, 0.3333],\n",
      "        [0.1111, 0.2222, 0.3333]])\n"
     ]
    }
   ],
   "source": [
    "# This is 2-D tensor\n",
    "\n",
    "b=torch.tensor([[0.11111, 0.222222, 0.3333333],[0.11111, 0.222222, 0.3333333],[0.11111, 0.222222, 0.3333333],[0.11111, 0.222222, 0.3333333]])\n",
    "print(b)"
   ]
  },
  {
   "cell_type": "code",
   "execution_count": 13,
   "metadata": {
    "colab": {
     "base_uri": "https://localhost:8080/",
     "height": 85
    },
    "id": "WUndBklLPCIt",
    "outputId": "b3d68e55-cb80-4bfa-e8d9-f5b37eb3a106"
   },
   "outputs": [
    {
     "name": "stdout",
     "output_type": "stream",
     "text": [
      "torch.Size([3])\n",
      "torch.Size([4, 3])\n",
      "torch.Size([3])\n",
      "torch.Size([4, 3])\n"
     ]
    }
   ],
   "source": [
    "# Get the shape and size of the tensors\n",
    "print(a.shape)\n",
    "print(b.shape)\n",
    "print(a.size())\n",
    "print(b.size())"
   ]
  },
  {
   "cell_type": "code",
   "execution_count": 15,
   "metadata": {
    "colab": {
     "base_uri": "https://localhost:8080/",
     "height": 34
    },
    "id": "M4hCqFjoPfbr",
    "outputId": "1d369d75-6f20-49f7-89d5-adfa3ad9357d"
   },
   "outputs": [
    {
     "name": "stdout",
     "output_type": "stream",
     "text": [
      "4\n"
     ]
    }
   ],
   "source": [
    "print(b.shape[0])  # To get the shape of the Tensor \"b\""
   ]
  },
  {
   "cell_type": "code",
   "execution_count": 20,
   "metadata": {
    "colab": {
     "base_uri": "https://localhost:8080/",
     "height": 102
    },
    "id": "2ugTWz73P7g9",
    "outputId": "d0809e51-958c-473b-e7ce-6a2377aa3634"
   },
   "outputs": [
    {
     "name": "stdout",
     "output_type": "stream",
     "text": [
      "tensor([[1., 2., 3.],\n",
      "        [1., 2., 3.],\n",
      "        [1., 2., 3.],\n",
      "        [1., 2., 3.]])\n",
      "torch.float32\n"
     ]
    }
   ],
   "source": [
    "# we are trying to get the FloatTensor here.\n",
    "c = torch.FloatTensor([[1, 2, 3],[1, 2, 3],[1, 2, 3],[1, 2, 3]])\n",
    "print(c)\n",
    "print(c.dtype)"
   ]
  },
  {
   "cell_type": "code",
   "execution_count": 27,
   "metadata": {
    "colab": {
     "base_uri": "https://localhost:8080/",
     "height": 102
    },
    "id": "TBsyJJB0QjlL",
    "outputId": "ece638fc-8526-45df-c6b9-651289c4d72a"
   },
   "outputs": [
    {
     "name": "stdout",
     "output_type": "stream",
     "text": [
      "tensor([[1., 2., 3.],\n",
      "        [1., 2., 3.],\n",
      "        [1., 2., 3.],\n",
      "        [1., 2., 3.]], dtype=torch.float64)\n",
      "torch.float64\n"
     ]
    }
   ],
   "source": [
    "# we are trying to get the DoubleTensor here.\n",
    "d = torch.DoubleTensor([[1, 2, 3],[1, 2, 3],[1, 2, 3],[1, 2, 3]])\n",
    "print(d)\n",
    "print(d.dtype)"
   ]
  },
  {
   "cell_type": "code",
   "execution_count": 26,
   "metadata": {
    "colab": {
     "base_uri": "https://localhost:8080/",
     "height": 51
    },
    "id": "asQtZsdjQ7Sq",
    "outputId": "d7e4c322-7f00-4f45-c76c-331186cfce38"
   },
   "outputs": [
    {
     "name": "stdout",
     "output_type": "stream",
     "text": [
      "tensor(2.)\n",
      "tensor(0.8528)\n"
     ]
    }
   ],
   "source": [
    "print(c.mean())\n",
    "print(c.std())"
   ]
  },
  {
   "cell_type": "code",
   "execution_count": 25,
   "metadata": {
    "colab": {
     "base_uri": "https://localhost:8080/",
     "height": 51
    },
    "id": "erFiK99dRU0V",
    "outputId": "f8391dbb-e3ab-4f7c-8b2c-4dfc2b40536d"
   },
   "outputs": [
    {
     "name": "stdout",
     "output_type": "stream",
     "text": [
      "tensor(2., dtype=torch.float64)\n",
      "tensor(0.8528, dtype=torch.float64)\n"
     ]
    }
   ],
   "source": [
    "print(d.mean())\n",
    "print(d.std())"
   ]
  },
  {
   "cell_type": "code",
   "execution_count": 32,
   "metadata": {
    "colab": {
     "base_uri": "https://localhost:8080/",
     "height": 221
    },
    "id": "OR3FurdTRWut",
    "outputId": "165434c8-8d95-42b0-b3a7-c5257e732e95"
   },
   "outputs": [
    {
     "name": "stdout",
     "output_type": "stream",
     "text": [
      "tensor([[0.1111],\n",
      "        [0.2222],\n",
      "        [0.3333],\n",
      "        [0.1111],\n",
      "        [0.2222],\n",
      "        [0.3333],\n",
      "        [0.1111],\n",
      "        [0.2222],\n",
      "        [0.3333],\n",
      "        [1.0000],\n",
      "        [2.0000],\n",
      "        [3.0000]])\n"
     ]
    }
   ],
   "source": [
    "# Reshaping the Tensor, The method to reshape tensor is called \"View\"\n",
    "# If one of the dimension is -1 , its size can be inferred in this case its \"1\" dimension ,  with -1(any) rows  and 1 coloumn (4 times sh means 12 times 1 rows)\n",
    "sh =torch.tensor([[0.11111, 0.222222, 0.3333333],[0.11111, 0.222222, 0.3333333],[0.11111, 0.222222, 0.3333333],[1, 2, 3]])\n",
    "print(sh.view(-1,1))"
   ]
  },
  {
   "cell_type": "code",
   "execution_count": 33,
   "metadata": {
    "colab": {
     "base_uri": "https://localhost:8080/",
     "height": 51
    },
    "id": "U6tE186KSHx8",
    "outputId": "a052e385-4f8b-4825-d17d-16493f3b290f"
   },
   "outputs": [
    {
     "name": "stdout",
     "output_type": "stream",
     "text": [
      "tensor([0.1111, 0.2222, 0.3333, 0.1111, 0.2222, 0.3333, 0.1111, 0.2222, 0.3333,\n",
      "        1.0000, 2.0000, 3.0000])\n"
     ]
    }
   ],
   "source": [
    "# Flattern the tensor. (12 times sh)\n",
    "print(sh.view(12))"
   ]
  },
  {
   "cell_type": "code",
   "execution_count": 34,
   "metadata": {
    "colab": {
     "base_uri": "https://localhost:8080/",
     "height": 68
    },
    "id": "68ERxLUGSaKI",
    "outputId": "4b75933c-c143-4a7b-f6dc-1dba099e18e6"
   },
   "outputs": [
    {
     "name": "stdout",
     "output_type": "stream",
     "text": [
      "tensor([[0.1111, 0.2222, 0.3333, 0.1111],\n",
      "        [0.2222, 0.3333, 0.1111, 0.2222],\n",
      "        [0.3333, 1.0000, 2.0000, 3.0000]])\n"
     ]
    }
   ],
   "source": [
    "# Any number of rows and 4 number columns\n",
    "print(sh.view(-1,4))"
   ]
  },
  {
   "cell_type": "code",
   "execution_count": 35,
   "metadata": {
    "colab": {
     "base_uri": "https://localhost:8080/",
     "height": 68
    },
    "id": "PXk8B7pETn2M",
    "outputId": "3b651d71-b6a8-4ec4-8e40-31610fb71c45"
   },
   "outputs": [
    {
     "name": "stdout",
     "output_type": "stream",
     "text": [
      "tensor([[0.1111, 0.2222, 0.3333, 0.1111],\n",
      "        [0.2222, 0.3333, 0.1111, 0.2222],\n",
      "        [0.3333, 1.0000, 2.0000, 3.0000]])\n"
     ]
    }
   ],
   "source": [
    "# here it is same as the previous cell , 3 rows and 4 columns\n",
    "print(sh.view(3,4))"
   ]
  },
  {
   "cell_type": "code",
   "execution_count": 36,
   "metadata": {
    "colab": {
     "base_uri": "https://localhost:8080/",
     "height": 68
    },
    "id": "mwQsIcdSTrnx",
    "outputId": "00ca1648-2971-4ee5-90b5-d26786bf719e"
   },
   "outputs": [
    {
     "name": "stdout",
     "output_type": "stream",
     "text": [
      "tensor([[0.1111, 0.2222, 0.3333, 0.1111, 0.2222, 0.3333, 0.1111, 0.2222, 0.3333,\n",
      "         1.0000, 2.0000, 3.0000]])\n",
      "torch.Size([1, 12])\n"
     ]
    }
   ],
   "source": [
    "# 1 row and any number of columns , shape is (1 , 12)\n",
    "sh = sh.view(1,-1)\n",
    "print(sh)\n",
    "print(sh.shape)"
   ]
  },
  {
   "cell_type": "code",
   "execution_count": 51,
   "metadata": {
    "colab": {
     "base_uri": "https://localhost:8080/",
     "height": 136
    },
    "id": "SjFd3NQmUSiW",
    "outputId": "b44932cb-29fe-4690-e8b7-c4c329669e77"
   },
   "outputs": [
    {
     "name": "stdout",
     "output_type": "stream",
     "text": [
      "tensor([[[ 1.6319,  0.0619,  0.5238, -0.3842],\n",
      "         [-0.0763, -1.0541, -0.4336, -0.5802],\n",
      "         [-0.7191, -1.7496, -0.7610,  0.0785]],\n",
      "\n",
      "        [[-0.0924, -0.3576,  0.1285,  0.4351],\n",
      "         [-0.5643, -1.0729, -0.1022, -1.2720],\n",
      "         [-0.5729,  1.8820, -0.5139, -1.6357]]])\n"
     ]
    }
   ],
   "source": [
    "# Create 3D tensor with 4 channels , 3 rows and 4 columns ( channels ,  rows,  columns)\n",
    "# torch.randn Returns a tensor filled with random numbers from a normal distribution with mean `0` and variance `1` \n",
    "# (also called the standard normal distribution).\n",
    "seed = 100   # To have the same session of the random numbers\n",
    "Dimension_3 = torch.randn(2,3,4)\n",
    "print(Dimension_3)"
   ]
  },
  {
   "cell_type": "code",
   "execution_count": 62,
   "metadata": {
    "colab": {
     "base_uri": "https://localhost:8080/",
     "height": 85
    },
    "id": "2uTHkVRhVIif",
    "outputId": "d70a3984-2815-48cc-d8c0-da8c65afc466"
   },
   "outputs": [
    {
     "name": "stdout",
     "output_type": "stream",
     "text": [
      "tensor([[ 1.6319,  0.0619,  0.5238, -0.3842, -0.0763, -1.0541, -0.4336, -0.5802,\n",
      "         -0.7191, -1.7496, -0.7610,  0.0785],\n",
      "        [-0.0924, -0.3576,  0.1285,  0.4351, -0.5643, -1.0729, -0.1022, -1.2720,\n",
      "         -0.5729,  1.8820, -0.5139, -1.6357]])\n"
     ]
    }
   ],
   "source": [
    "# Reshaping Dimension_3 Tensor to 2 rows and  12 columns (rows, columns)\n",
    "print(Dimension_3.view(2,12))"
   ]
  },
  {
   "cell_type": "code",
   "execution_count": 63,
   "metadata": {
    "colab": {
     "base_uri": "https://localhost:8080/",
     "height": 85
    },
    "id": "Kz77ix4rVpM3",
    "outputId": "d3d135ef-cc53-495a-c9fd-2688ff3d31ec"
   },
   "outputs": [
    {
     "name": "stdout",
     "output_type": "stream",
     "text": [
      "tensor([[ 1.6319,  0.0619,  0.5238, -0.3842, -0.0763, -1.0541, -0.4336, -0.5802,\n",
      "         -0.7191, -1.7496, -0.7610,  0.0785],\n",
      "        [-0.0924, -0.3576,  0.1285,  0.4351, -0.5643, -1.0729, -0.1022, -1.2720,\n",
      "         -0.5729,  1.8820, -0.5139, -1.6357]])\n"
     ]
    }
   ],
   "source": [
    "# Reshaping Dimension_3 Tensor to 2 rows and  12 columns (rows, columns)\n",
    "print(Dimension_3.view(2,-1)) "
   ]
  },
  {
   "cell_type": "code",
   "execution_count": 64,
   "metadata": {
    "colab": {
     "base_uri": "https://localhost:8080/",
     "height": 68
    },
    "id": "3LeztJaZWMiC",
    "outputId": "de26a29a-0b6d-4a3b-83a0-57f7f5c73420"
   },
   "outputs": [
    {
     "name": "stdout",
     "output_type": "stream",
     "text": [
      "tensor([[ 1.6319,  0.0619,  0.5238, -0.3842, -0.0763, -1.0541, -0.4336, -0.5802,\n",
      "         -0.7191, -1.7496, -0.7610,  0.0785, -0.0924, -0.3576,  0.1285,  0.4351,\n",
      "         -0.5643, -1.0729, -0.1022, -1.2720, -0.5729,  1.8820, -0.5139, -1.6357]])\n"
     ]
    }
   ],
   "source": [
    "# Reshaping Dimension_3 Tensor to 1 rows and \"n\" number columns\n",
    "print(Dimension_3.view(1,-1))"
   ]
  },
  {
   "cell_type": "code",
   "execution_count": 111,
   "metadata": {
    "colab": {
     "base_uri": "https://localhost:8080/",
     "height": 102
    },
    "id": "tJyfGoZ8WvXC",
    "outputId": "4f795a4d-ef57-4bf7-eb12-216a767cb8cb"
   },
   "outputs": [
    {
     "name": "stdout",
     "output_type": "stream",
     "text": [
      "tensor([[0.4916, 0.7155, 0.6845, 0.8136],\n",
      "        [0.1889, 0.4421, 0.5905, 0.0568],\n",
      "        [0.1973, 0.8802, 0.5052, 0.6741],\n",
      "        [0.2096, 0.1187, 0.1240, 0.0101]])\n",
      "torch.float32\n"
     ]
    }
   ],
   "source": [
    "# torch.rand Returns a tensor filled with random numbers from a uniform distribution on the interval :math:`[0, 1)` \n",
    "sha = torch.rand(4,4)\n",
    "print(sha)\n",
    "print(sha.dtype)"
   ]
  },
  {
   "cell_type": "code",
   "execution_count": 102,
   "metadata": {
    "colab": {
     "base_uri": "https://localhost:8080/",
     "height": 51
    },
    "id": "5WnEHaUCZNup",
    "outputId": "735fa7a9-a5af-4546-ae11-4611e490dbdc"
   },
   "outputs": [
    {
     "name": "stdout",
     "output_type": "stream",
     "text": [
      "tensor([6, 6, 5, 4, 2, 4, 7, 3, 5, 7])\n",
      "torch.int64\n"
     ]
    }
   ],
   "source": [
    "# Create anarray of 5 random intigers from value between 2 and 7 and (exclusive of 8 )\n",
    "# torch.randint Returns a tensor filled with random integers generated uniformly between :attr:`low` (inclusive) and :attr:`high` (exclusive).\n",
    "sh1 = torch.randint(2,8 , (10,))   # Intiger between 2-8 and tensor of shape (10,0)\n",
    "print(sh1)\n",
    "print(sh1.dtype)"
   ]
  },
  {
   "cell_type": "code",
   "execution_count": 103,
   "metadata": {
    "colab": {
     "base_uri": "https://localhost:8080/",
     "height": 119
    },
    "id": "9T6VPkP3bRga",
    "outputId": "e57c22c8-743e-47b0-c3af-9fec5c48052d"
   },
   "outputs": [
    {
     "name": "stdout",
     "output_type": "stream",
     "text": [
      "tensor([[7, 2, 2, 7, 3],\n",
      "        [5, 7, 3, 7, 2],\n",
      "        [2, 2, 7, 7, 5],\n",
      "        [2, 6, 6, 3, 7],\n",
      "        [2, 6, 2, 6, 5]])\n",
      "torch.int64\n"
     ]
    }
   ],
   "source": [
    "# for 2-D array\n",
    "sh2 = torch.randint(2,8 , (5,5))   # Intiger between 2-8 and tensor of shape (5,5)\n",
    "print(sh2)\n",
    "print(sh2.dtype)"
   ]
  },
  {
   "cell_type": "code",
   "execution_count": 104,
   "metadata": {
    "colab": {
     "base_uri": "https://localhost:8080/",
     "height": 85
    },
    "id": "9pXMqQ2LctUa",
    "outputId": "416cd478-9237-400e-a4bb-e84245e85dc4"
   },
   "outputs": [
    {
     "name": "stdout",
     "output_type": "stream",
     "text": [
      "10\n",
      "torch.int64\n",
      "25\n",
      "torch.int64\n"
     ]
    }
   ],
   "source": [
    "# Get the number of elements in array \n",
    "# torch.numel : Returns the total number of elements in the :attr:`input` tensor.\n",
    "print(torch.numel(sh1))\n",
    "print(sh1.dtype)\n",
    "print(torch.numel(sh2))\n",
    "print(sh2.dtype)"
   ]
  },
  {
   "cell_type": "code",
   "execution_count": 106,
   "metadata": {
    "colab": {
     "base_uri": "https://localhost:8080/",
     "height": 68
    },
    "id": "nSDfJQEIdq7e",
    "outputId": "e8447427-0fcd-449a-96cf-d79f0562f738"
   },
   "outputs": [
    {
     "name": "stdout",
     "output_type": "stream",
     "text": [
      "tensor([[0, 0, 0],\n",
      "        [0, 0, 0],\n",
      "        [0, 0, 0]])\n"
     ]
    }
   ],
   "source": [
    "# Construct 3X3 matrix of zeros and of type long\n",
    "# Returns a tensor filled with the scalar value `0`, with the shape defined by the variable argument :attr:`size`.\n",
    "\n",
    "sh3 = torch.zeros(3,3 , dtype=torch.long)\n",
    "print(sh3)"
   ]
  },
  {
   "cell_type": "code",
   "execution_count": 110,
   "metadata": {
    "colab": {
     "base_uri": "https://localhost:8080/",
     "height": 85
    },
    "id": "CM0T4xlffM8a",
    "outputId": "ab826373-1081-48ff-9dc1-eda8a01b6554"
   },
   "outputs": [
    {
     "name": "stdout",
     "output_type": "stream",
     "text": [
      "tensor([[1, 1, 1],\n",
      "        [1, 1, 1],\n",
      "        [1, 1, 1]])\n",
      "torch.int64\n"
     ]
    }
   ],
   "source": [
    "# Construct 3X3 matrix of zeros and of type long\n",
    "# torch.ones : Returns a tensor filled with the scalar value `1`, with the shape defined by the variable argument :attr:`size`.\n",
    "sh6 = torch.ones(3,3 , dtype=torch.long)\n",
    "print(sh6)\n",
    "print(sh6.dtype)"
   ]
  },
  {
   "cell_type": "code",
   "execution_count": 113,
   "metadata": {
    "colab": {
     "base_uri": "https://localhost:8080/",
     "height": 102
    },
    "id": "cl11PFoAffbt",
    "outputId": "a39789af-b383-40fd-fe79-0ebbcb525bee"
   },
   "outputs": [
    {
     "name": "stdout",
     "output_type": "stream",
     "text": [
      "tensor([[0.4551, 0.6606, 0.5147, 0.9909],\n",
      "        [0.5258, 0.5868, 0.6577, 0.2414],\n",
      "        [0.6323, 0.7684, 0.4844, 0.1206],\n",
      "        [0.2160, 0.5144, 0.3097, 0.9785]], dtype=torch.float64)\n",
      "torch.float64\n"
     ]
    }
   ],
   "source": [
    "# Convert the datatype of Tensor\n",
    "# Returns a tensor with the same size as :attr:`input` that is filled with\n",
    "# random numbers from a uniform distribution on the interval :math:`[0, 1)`.\n",
    "# ``torch.rand_like(input)`` is equivalent to\n",
    "# ``torch.rand(input.size(), dtype=input.dtype, layout=input.layout, device=input.device)``.\n",
    "\n",
    "data_like = torch.rand_like(sha , dtype=torch.double)\n",
    "print(data_like)\n",
    "print(data_like.dtype)"
   ]
  },
  {
   "cell_type": "code",
   "execution_count": 114,
   "metadata": {
    "colab": {
     "base_uri": "https://localhost:8080/",
     "height": 85
    },
    "id": "d-hfLFrYg7ud",
    "outputId": "67aea308-b758-4ac2-c5b1-ad06f29b75d5"
   },
   "outputs": [
    {
     "name": "stdout",
     "output_type": "stream",
     "text": [
      "tensor([[0.9467, 1.3762, 1.1992, 1.8045],\n",
      "        [0.7146, 1.0289, 1.2482, 0.2981],\n",
      "        [0.8296, 1.6486, 0.9895, 0.7947],\n",
      "        [0.4256, 0.6330, 0.4337, 0.9886]], dtype=torch.float64)\n"
     ]
    }
   ],
   "source": [
    "# Adding 2 tensors, which should have same size and same data type\n",
    "# torch.add : Adds the scalar :attr:`other` to each element of the input :attr:`input` and returns a new resulting tensor.\n",
    "Add_result = torch.add(data_like , sha)\n",
    "print(Add_result)"
   ]
  },
  {
   "cell_type": "code",
   "execution_count": 115,
   "metadata": {
    "colab": {
     "base_uri": "https://localhost:8080/",
     "height": 85
    },
    "id": "i0FMBsNhhlSZ",
    "outputId": "6082d287-17e3-4ed4-bac2-696ced9f481c"
   },
   "outputs": [
    {
     "name": "stdout",
     "output_type": "stream",
     "text": [
      "tensor([[0.9467, 1.3762, 1.1992, 1.8045],\n",
      "        [0.7146, 1.0289, 1.2482, 0.2981],\n",
      "        [0.8296, 1.6486, 0.9895, 0.7947],\n",
      "        [0.4256, 0.6330, 0.4337, 0.9886]])\n"
     ]
    }
   ],
   "source": [
    "# In-place addition (changing the value of sha)\n",
    "sha.add_(data_like)\n",
    "print(sha)"
   ]
  },
  {
   "cell_type": "code",
   "execution_count": 122,
   "metadata": {
    "colab": {
     "base_uri": "https://localhost:8080/",
     "height": 374
    },
    "id": "qi8ZqacBh5b_",
    "outputId": "f268fdad-6911-4388-f8f6-efad845abb5c"
   },
   "outputs": [
    {
     "name": "stdout",
     "output_type": "stream",
     "text": [
      "tensor([[0.9467, 1.3762, 1.1992, 1.8045],\n",
      "        [0.7146, 1.0289, 1.2482, 0.2981],\n",
      "        [0.8296, 1.6486, 0.9895, 0.7947],\n",
      "        [0.4256, 0.6330, 0.4337, 0.9886]])\n",
      "**************************************************\n",
      "tensor([1.3762, 1.0289, 1.6486, 0.6330])\n",
      "**************************************************\n",
      "tensor([[0.9467, 1.3762],\n",
      "        [0.7146, 1.0289],\n",
      "        [0.8296, 1.6486],\n",
      "        [0.4256, 0.6330]])\n",
      "**************************************************\n",
      "tensor([[0.9467, 1.3762, 1.1992, 1.8045],\n",
      "        [0.7146, 1.0289, 1.2482, 0.2981],\n",
      "        [0.8296, 1.6486, 0.9895, 0.7947]])\n",
      "**************************************************\n",
      "tensor(0.7947)\n",
      "**************************************************\n",
      "0.7946618795394897\n",
      "**************************************************\n",
      "tensor([0.8296, 1.6486, 0.9895, 0.7947])\n"
     ]
    }
   ],
   "source": [
    "# Other Operations Matrix slicing\n",
    "seed = 200\n",
    "print(sha)\n",
    "print(\"*\"*50)\n",
    "print(sha[:,1])  # All the rows in the 1st column\n",
    "print(\"*\"*50)\n",
    "print(sha[:,:2])  # All the rows and upto 2 columns\n",
    "print(\"*\"*50)\n",
    "print(sha[:3,:])  # Upto 3 rows and all columns\n",
    "print(\"*\"*50)\n",
    "other = sha[2,3]  \n",
    "print(other)       # Extracting single number 2nd row and 3rd column ( remember index starts from \"0\")\n",
    "print(\"*\"*50)\n",
    "print(other.item())  # Extract the number from tensor \".item()\"\n",
    "print(\"*\"*50 )\n",
    "print(sha[2,:])  # 2nd row all columns"
   ]
  },
  {
   "cell_type": "markdown",
   "metadata": {
    "id": "ngBMPASumUox"
   },
   "source": [
    "**Numpy Bridge**"
   ]
  },
  {
   "cell_type": "code",
   "execution_count": 123,
   "metadata": {
    "id": "Fm3BGJZmjHSm"
   },
   "outputs": [],
   "source": [
    "import numpy as np"
   ]
  },
  {
   "cell_type": "code",
   "execution_count": 138,
   "metadata": {
    "colab": {
     "base_uri": "https://localhost:8080/",
     "height": 34
    },
    "id": "ahPBKl5Emr_8",
    "outputId": "2d4ab096-7e3a-4dae-a54c-7ac4a17aeb4d"
   },
   "outputs": [
    {
     "name": "stdout",
     "output_type": "stream",
     "text": [
      "tensor([1., 1., 1., 1.]) , torch.float32\n"
     ]
    }
   ],
   "source": [
    "one_torch = torch.ones(4)\n",
    "print(one_torch , \",\",one_torch.dtype)"
   ]
  },
  {
   "cell_type": "code",
   "execution_count": 139,
   "metadata": {
    "colab": {
     "base_uri": "https://localhost:8080/",
     "height": 34
    },
    "id": "gganO1a-p0Mx",
    "outputId": "09718f06-0d3a-4873-959e-72a439956f64"
   },
   "outputs": [
    {
     "name": "stdout",
     "output_type": "stream",
     "text": [
      "[1. 1. 1. 1.]  ,  float32\n"
     ]
    }
   ],
   "source": [
    "# Converting torch to numpy array\n",
    "one_numpy = one_torch.numpy()\n",
    "print(one_numpy , \" , \",one_numpy.dtype)"
   ]
  },
  {
   "cell_type": "code",
   "execution_count": 140,
   "metadata": {
    "colab": {
     "base_uri": "https://localhost:8080/",
     "height": 34
    },
    "id": "Pf3oL4UpqSss",
    "outputId": "bfb98eed-4ce0-45ff-8304-f9820f28bd70"
   },
   "outputs": [
    {
     "name": "stdout",
     "output_type": "stream",
     "text": [
      "[3. 3. 3. 3.]  ,  tensor([3., 3., 3., 3.])\n"
     ]
    }
   ],
   "source": [
    "# Changing one_numpy array by changing one_torch by In-place operation ( this is called numpy bridge , whatever happens to numpy also happens to torch )\n",
    "one_torch.add_(2)\n",
    "print(one_numpy ,\" , \", one_torch)"
   ]
  },
  {
   "cell_type": "code",
   "execution_count": 142,
   "metadata": {
    "colab": {
     "base_uri": "https://localhost:8080/",
     "height": 34
    },
    "id": "YIsgLE-Kq3k3",
    "outputId": "8b149fd7-7b1e-49fe-ee81-4007a52c0686"
   },
   "outputs": [
    {
     "name": "stdout",
     "output_type": "stream",
     "text": [
      "[1. 1. 1.] , float64\n"
     ]
    }
   ],
   "source": [
    "# Converting numpy array to torch tensor \n",
    "\n",
    "two_numpy = numpy.ones(3)\n",
    "print(two_numpy , \",\", two_numpy.dtype)"
   ]
  },
  {
   "cell_type": "code",
   "execution_count": 143,
   "metadata": {
    "colab": {
     "base_uri": "https://localhost:8080/",
     "height": 34
    },
    "id": "m5f7i5_4sEfT",
    "outputId": "aec7a977-0f2d-4764-b8c6-29afa00e90f6"
   },
   "outputs": [
    {
     "name": "stdout",
     "output_type": "stream",
     "text": [
      "tensor([1., 1., 1.], dtype=torch.float64) , torch.float64\n"
     ]
    }
   ],
   "source": [
    "# from_numpy(ndarray) -> Tensor : Creates a :class:`Tensor` from a :class:`numpy.ndarray`.\n",
    "two_torch = torch.from_numpy(two_numpy)\n",
    "print(two_torch , \",\", two_torch.dtype)"
   ]
  },
  {
   "cell_type": "code",
   "execution_count": 144,
   "metadata": {
    "colab": {
     "base_uri": "https://localhost:8080/",
     "height": 34
    },
    "id": "cYU9Wz2rs0G9",
    "outputId": "7148fc74-f319-4209-cd2e-9289e08b75f8"
   },
   "outputs": [
    {
     "name": "stdout",
     "output_type": "stream",
     "text": [
      "[3. 3. 3.] , tensor([3., 3., 3.], dtype=torch.float64)\n"
     ]
    }
   ],
   "source": [
    "# Changing two_torch array by changing two_numpy by In-place operation ( this is called numpy bridge)\n",
    "\n",
    "np.add(two_numpy, 2 , out=two_numpy)\n",
    "print(two_numpy , \",\" , two_torch)"
   ]
  },
  {
   "cell_type": "code",
   "execution_count": 145,
   "metadata": {
    "colab": {
     "base_uri": "https://localhost:8080/",
     "height": 85
    },
    "id": "upbouO4ctj7W",
    "outputId": "02235c3f-1f3d-4ead-9963-8d4e3a19b5dc"
   },
   "outputs": [
    {
     "name": "stdout",
     "output_type": "stream",
     "text": [
      "tensor([[0.9467, 1.3762, 1.1992, 1.8045],\n",
      "        [0.7146, 1.0289, 1.2482, 0.2981],\n",
      "        [0.8296, 1.6486, 0.9895, 0.7947],\n",
      "        [0.4256, 0.6330, 0.4337, 0.9886]], device='cuda:0')\n"
     ]
    }
   ],
   "source": [
    "# Move Tensor to the GPU\n",
    "sha = sha.cuda()\n",
    "print(sha)"
   ]
  },
  {
   "cell_type": "code",
   "execution_count": 147,
   "metadata": {
    "colab": {
     "base_uri": "https://localhost:8080/",
     "height": 119
    },
    "id": "uioR52bPt3nk",
    "outputId": "4746b861-f309-43f2-c099-6338b570bdf6"
   },
   "outputs": [
    {
     "name": "stdout",
     "output_type": "stream",
     "text": [
      "True\n",
      "tensor([[0.9467, 1.3762, 1.1992, 1.8045],\n",
      "        [0.7146, 1.0289, 1.2482, 0.2981],\n",
      "        [0.8296, 1.6486, 0.9895, 0.7947],\n",
      "        [0.4256, 0.6330, 0.4337, 0.9886]], device='cuda:0',\n",
      "       dtype=torch.float64)\n"
     ]
    }
   ],
   "source": [
    "# provide easy switching between CPU and GPU\n",
    "\n",
    "CUDA = torch.cuda.is_available()\n",
    "print(CUDA)\n",
    "if CUDA:\n",
    "  Add_result = Add_result.cuda()\n",
    "  print(Add_result)"
   ]
  },
  {
   "cell_type": "code",
   "execution_count": 148,
   "metadata": {
    "colab": {
     "base_uri": "https://localhost:8080/",
     "height": 51
    },
    "id": "85BxKYifubZ7",
    "outputId": "e9173feb-883d-4273-c562-b3f715f8eaf6"
   },
   "outputs": [
    {
     "name": "stdout",
     "output_type": "stream",
     "text": [
      "[1, 2, 3, 4, 5]\n",
      "[1, 2, 3, 4, 5] , tensor([1, 2, 3, 4, 5])\n"
     ]
    }
   ],
   "source": [
    "# Converting List to Tensor\n",
    "\n",
    "lis = [1,2,3,4,5]\n",
    "print(lis)\n",
    "lis_torch = torch.tensor(lis)\n",
    "print(lis ,\",\",lis_torch)"
   ]
  },
  {
   "cell_type": "code",
   "execution_count": 151,
   "metadata": {
    "colab": {
     "base_uri": "https://localhost:8080/",
     "height": 34
    },
    "id": "IR0dMD8JvBP8",
    "outputId": "a58b1546-9905-446f-bce9-f45de6ab9d88"
   },
   "outputs": [
    {
     "name": "stdout",
     "output_type": "stream",
     "text": [
      "[0.9467, 1.3762, 1.1992, 1.8045]  ,  tensor([0.9467, 1.3762, 1.1992, 1.8045]) , torch.float32\n"
     ]
    }
   ],
   "source": [
    "lis1 = [0.9467, 1.3762, \n",
    "        1.1992, 1.8045]\n",
    "\n",
    "lis1_torch = torch.tensor(lis1)\n",
    "print(lis1 , \" , \" ,lis1_torch , \",\", lis1_torch.dtype )"
   ]
  },
  {
   "cell_type": "markdown",
   "metadata": {
    "id": "qQdHROF-wFUW"
   },
   "source": [
    "**Tensor Concatenation**"
   ]
  },
  {
   "cell_type": "code",
   "execution_count": 163,
   "metadata": {
    "colab": {
     "base_uri": "https://localhost:8080/",
     "height": 408
    },
    "id": "wFU8P2civiZU",
    "outputId": "920d3985-8da9-4602-b27e-9bf98668eee2"
   },
   "outputs": [
    {
     "name": "stdout",
     "output_type": "stream",
     "text": [
      "tensor([[-0.7518, -0.0626, -0.0173,  1.0446],\n",
      "        [ 0.0695,  0.5356, -0.4749,  0.7661]]) \n",
      "\n",
      " tensor([[ 1.5182,  1.2758, -0.2990, -0.5330],\n",
      "        [-0.2530,  1.2537,  0.4871, -0.3752],\n",
      "        [-1.5918, -0.9506, -0.3039, -0.2444]])\n",
      "\n",
      " tensor([[-0.7518, -0.0626, -0.0173,  1.0446],\n",
      "        [ 0.0695,  0.5356, -0.4749,  0.7661],\n",
      "        [ 1.5182,  1.2758, -0.2990, -0.5330],\n",
      "        [-0.2530,  1.2537,  0.4871, -0.3752],\n",
      "        [-1.5918, -0.9506, -0.3039, -0.2444]]) \n",
      "\n",
      "************************************************** \n",
      "\n",
      "tensor([[ 0.9934,  0.9257,  0.5404,  0.4575],\n",
      "        [-0.1119,  0.5105,  1.0251, -0.6599]]) \n",
      "\n",
      " tensor([[ 0.7549,  1.0703, -0.3227],\n",
      "        [ 0.7037,  0.2800, -0.1387]])\n",
      "\n",
      " tensor([[ 0.9934,  0.9257,  0.5404,  0.4575,  0.7549,  1.0703, -0.3227],\n",
      "        [-0.1119,  0.5105,  1.0251, -0.6599,  0.7037,  0.2800, -0.1387]])\n"
     ]
    }
   ],
   "source": [
    "# Tensor Concatinate\n",
    "\n",
    "tensor_1 = torch.randn(2,4)\n",
    "tensor_2 = torch.randn(3,4)\n",
    "print(tensor_1 , \"\\n\\n\", tensor_2)\n",
    "\n",
    "# Concate along 0 dimensiion (concatination rows)\n",
    "# torch.cat : Concatenates the given sequence of :attr:`seq` tensors in the given dimension.\n",
    "# All tensors must either have the same shape (except in the concatenating\n",
    "# dimension) or be empty.\n",
    "\n",
    "concat =  torch.cat([tensor_1 , tensor_2])\n",
    "print(\"\\n\", concat ,\"\\n\")\n",
    "\n",
    "print(\"*\"*50 , \"\\n\")\n",
    "\n",
    "# Concate along 1 dimensiion (concatination Columns)\n",
    "\n",
    "tensor_3 = torch.randn(2,4)\n",
    "tensor_4 = torch.randn(2,3)\n",
    "print(tensor_3 , \"\\n\\n\", tensor_4)\n",
    "\n",
    "concat1 =  torch.cat([tensor_3 , tensor_4] , 1)\n",
    "print(\"\\n\", concat1)\n"
   ]
  },
  {
   "cell_type": "markdown",
   "metadata": {
    "id": "NMN6I8WuyiO0"
   },
   "source": [
    "**Adding Dimensions to tensors**"
   ]
  },
  {
   "cell_type": "code",
   "execution_count": 169,
   "metadata": {
    "colab": {
     "base_uri": "https://localhost:8080/",
     "height": 119
    },
    "id": "771VtJYQwV0H",
    "outputId": "d483e2a1-1ea7-4e3a-b454-ae74793502f4"
   },
   "outputs": [
    {
     "name": "stdout",
     "output_type": "stream",
     "text": [
      "tensor([[1, 2, 3, 4]]) , torch.Size([1, 4]) \n",
      "\n",
      "tensor([[1],\n",
      "        [2],\n",
      "        [3],\n",
      "        [4]]) , torch.Size([4, 1])\n"
     ]
    }
   ],
   "source": [
    "# 2-D tensor \n",
    "tensor_base = torch.tensor([1,2,3,4])\n",
    "tensor_b = torch.unsqueeze(tensor_base, 0)\n",
    "print(tensor_b , ',', tensor_b.shape , '\\n')\n",
    "\n",
    "tensor_c = torch.unsqueeze(tensor_base, 1)\n",
    "print(tensor_c , \",\", tensor_c.shape)\n"
   ]
  },
  {
   "cell_type": "code",
   "execution_count": 185,
   "metadata": {
    "colab": {
     "base_uri": "https://localhost:8080/",
     "height": 782
    },
    "id": "g9tS_Jj9zmoM",
    "outputId": "26d11916-ae87-4575-cd9b-21762b9b2c08"
   },
   "outputs": [
    {
     "name": "stdout",
     "output_type": "stream",
     "text": [
      "tensor([[[0.0808, 0.9506, 0.5715, 0.0052],\n",
      "         [0.6377, 0.4387, 0.4348, 0.1285],\n",
      "         [0.5354, 0.7776, 0.0280, 0.9350]],\n",
      "\n",
      "        [[0.4342, 0.5942, 0.3788, 0.5246],\n",
      "         [0.1459, 0.2398, 0.6579, 0.4705],\n",
      "         [0.8525, 0.7015, 0.8523, 0.5445]]]) , torch.Size([2, 3, 4]) \n",
      "\n",
      "tensor([[0.5715, 0.4348, 0.0280],\n",
      "        [0.3788, 0.6579, 0.8523]]) , torch.Size([2, 3]) \n",
      "\n",
      "tensor([[[[0.0808, 0.9506, 0.5715, 0.0052]],\n",
      "\n",
      "         [[0.6377, 0.4387, 0.4348, 0.1285]],\n",
      "\n",
      "         [[0.5354, 0.7776, 0.0280, 0.9350]]],\n",
      "\n",
      "\n",
      "        [[[0.4342, 0.5942, 0.3788, 0.5246]],\n",
      "\n",
      "         [[0.1459, 0.2398, 0.6579, 0.4705]],\n",
      "\n",
      "         [[0.8525, 0.7015, 0.8523, 0.5445]]]]) , torch.Size([2, 3, 1, 4]) \n",
      "\n",
      "tensor([[[0.5715],\n",
      "         [0.4348],\n",
      "         [0.0280]],\n",
      "\n",
      "        [[0.3788],\n",
      "         [0.6579],\n",
      "         [0.8523]]]) , torch.Size([2, 3, 1]) \n",
      "\n",
      "tensor([[[[0.0808, 0.9506, 0.5715, 0.0052],\n",
      "          [0.6377, 0.4387, 0.4348, 0.1285],\n",
      "          [0.5354, 0.7776, 0.0280, 0.9350]]],\n",
      "\n",
      "\n",
      "        [[[0.4342, 0.5942, 0.3788, 0.5246],\n",
      "          [0.1459, 0.2398, 0.6579, 0.4705],\n",
      "          [0.8525, 0.7015, 0.8523, 0.5445]]]]) , torch.Size([2, 1, 3, 4]) \n",
      "\n",
      "tensor([[[0.5715, 0.4348, 0.0280]],\n",
      "\n",
      "        [[0.3788, 0.6579, 0.8523]]]) , torch.Size([2, 1, 3]) \n",
      "\n"
     ]
    }
   ],
   "source": [
    "# 3-D tensor\n",
    "\n",
    "tensor_3D_base = torch.rand(2,3,4)\n",
    "print(tensor_3D_base , \",\", tensor_3D_base.shape, \"\\n\")\n",
    "\n",
    "# extract tensor\n",
    "tensor_3D1 = tensor_3D_base[:,:,2]\n",
    "print(tensor_3D1 ,\",\" , tensor_3D1.shape, '\\n')\n",
    "\n",
    "# Add additional dimension\n",
    "tensor_3D2= torch.unsqueeze(tensor_3D_base,2)\n",
    "print(tensor_3D2 ,\",\" , tensor_3D2.shape, '\\n')\n",
    "\n",
    "tensor_3D3= torch.unsqueeze(tensor_3D1,2)\n",
    "print(tensor_3D3 ,\",\" , tensor_3D3.shape, '\\n')\n",
    "\n",
    "\n",
    "tensor_3D2= torch.unsqueeze(tensor_3D_base,1)\n",
    "print(tensor_3D2 ,\",\" , tensor_3D2.shape, '\\n')\n",
    "\n",
    "tensor_3D3= torch.unsqueeze(tensor_3D1,1)\n",
    "print(tensor_3D3 ,\",\" , tensor_3D3.shape, '\\n')"
   ]
  },
  {
   "cell_type": "markdown",
   "metadata": {
    "id": "U2LQ8Fam4RX-"
   },
   "source": [
    "**AutoGrad**"
   ]
  },
  {
   "cell_type": "code",
   "execution_count": null,
   "metadata": {
    "id": "b3d3rze44YDJ"
   },
   "outputs": [],
   "source": []
  }
 ],
 "metadata": {
  "accelerator": "GPU",
  "colab": {
   "collapsed_sections": [],
   "name": " PyTorch Basics.ipynb",
   "provenance": []
  },
  "kernelspec": {
   "display_name": "Python 3",
   "language": "python",
   "name": "python3"
  },
  "language_info": {
   "codemirror_mode": {
    "name": "ipython",
    "version": 3
   },
   "file_extension": ".py",
   "mimetype": "text/x-python",
   "name": "python",
   "nbconvert_exporter": "python",
   "pygments_lexer": "ipython3",
   "version": "3.8.3"
  },
  "nbTranslate": {
   "displayLangs": [
    "*"
   ],
   "hotkey": "alt-t",
   "langInMainMenu": true,
   "sourceLang": "en",
   "targetLang": "fr",
   "useGoogleTranslate": true
  },
  "toc": {
   "base_numbering": 1,
   "nav_menu": {},
   "number_sections": true,
   "sideBar": false,
   "skip_h1_title": true,
   "title_cell": "Table of Contents",
   "title_sidebar": "Contents",
   "toc_cell": true,
   "toc_position": {},
   "toc_section_display": false,
   "toc_window_display": false
  },
  "varInspector": {
   "cols": {
    "lenName": 16,
    "lenType": 16,
    "lenVar": 40
   },
   "kernels_config": {
    "python": {
     "delete_cmd_postfix": "",
     "delete_cmd_prefix": "del ",
     "library": "var_list.py",
     "varRefreshCmd": "print(var_dic_list())"
    },
    "r": {
     "delete_cmd_postfix": ") ",
     "delete_cmd_prefix": "rm(",
     "library": "var_list.r",
     "varRefreshCmd": "cat(var_dic_list()) "
    }
   },
   "types_to_exclude": [
    "module",
    "function",
    "builtin_function_or_method",
    "instance",
    "_Feature"
   ],
   "window_display": false
  }
 },
 "nbformat": 4,
 "nbformat_minor": 1
}
